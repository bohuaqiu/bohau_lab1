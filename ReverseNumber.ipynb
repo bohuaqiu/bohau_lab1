{
 "cells": [
  {
   "cell_type": "code",
   "execution_count": 13,
   "id": "29abe990-9863-4624-b73d-c721ba58c90d",
   "metadata": {},
   "outputs": [
    {
     "name": "stdin",
     "output_type": "stream",
     "text": [
      "Enter an integer: 852\n"
     ]
    },
    {
     "name": "stdout",
     "output_type": "stream",
     "text": [
      "258"
     ]
    }
   ],
   "source": [
    "def reverse(number):\n",
    "    while(number>0):\n",
    "        print(number%10,end = '')\n",
    "        number=number // 10\n",
    "num = int(input('Enter an integer:'))\n",
    "reverse(num)   "
   ]
  },
  {
   "cell_type": "code",
   "execution_count": null,
   "id": "9dc2d3ff-5992-499a-9cd4-129f15a2bcd6",
   "metadata": {},
   "outputs": [],
   "source": []
  },
  {
   "cell_type": "code",
   "execution_count": null,
   "id": "11bde188-fd1b-4377-bfd1-9dcf744e1c12",
   "metadata": {},
   "outputs": [],
   "source": []
  },
  {
   "cell_type": "code",
   "execution_count": null,
   "id": "b9286278-74e4-488f-bb07-ddf77133dd44",
   "metadata": {},
   "outputs": [],
   "source": []
  }
 ],
 "metadata": {
  "kernelspec": {
   "display_name": "Python 3",
   "language": "python",
   "name": "python3"
  },
  "language_info": {
   "codemirror_mode": {
    "name": "ipython",
    "version": 3
   },
   "file_extension": ".py",
   "mimetype": "text/x-python",
   "name": "python",
   "nbconvert_exporter": "python",
   "pygments_lexer": "ipython3",
   "version": "3.9.5"
  },
  "toc-autonumbering": false,
  "toc-showcode": false
 },
 "nbformat": 4,
 "nbformat_minor": 5
}
