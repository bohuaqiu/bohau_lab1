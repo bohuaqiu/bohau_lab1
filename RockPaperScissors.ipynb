{
 "cells": [
  {
   "cell_type": "code",
   "execution_count": 8,
   "id": "e94fb048-3d37-4ef4-b3cf-1954bdd30846",
   "metadata": {},
   "outputs": [
    {
     "name": "stdout",
     "output_type": "stream",
     "text": [
      "Welcome to ROCK, PAPER, SCISSORS game!\n"
     ]
    },
    {
     "name": "stdin",
     "output_type": "stream",
     "text": [
      "Enter your move: (r)ock (p)aper (s)cissors r\n"
     ]
    },
    {
     "name": "stdout",
     "output_type": "stream",
     "text": [
      "ROCK versus...\n",
      "ROCK\n",
      "It is a tie!\n"
     ]
    },
    {
     "name": "stdin",
     "output_type": "stream",
     "text": [
      "Enter your move: (r)ock (p)aper (s)cissors s\n"
     ]
    },
    {
     "name": "stdout",
     "output_type": "stream",
     "text": [
      "SCISSORS versus...\n",
      "ROCK\n",
      "You lose!\n"
     ]
    },
    {
     "name": "stdin",
     "output_type": "stream",
     "text": [
      "Enter your move: (r)ock (p)aper (s)cissors s\n"
     ]
    },
    {
     "name": "stdout",
     "output_type": "stream",
     "text": [
      "SCISSORS versus...\n",
      "SCISSORS\n",
      "It is a tie!\n"
     ]
    },
    {
     "name": "stdin",
     "output_type": "stream",
     "text": [
      "Enter your move: (r)ock (p)aper (s)cissors r\n"
     ]
    },
    {
     "name": "stdout",
     "output_type": "stream",
     "text": [
      "ROCK versus...\n",
      "SCISSORS\n",
      "You win!\n",
      "You have 2 ties and 1 loses before your first win.\n"
     ]
    }
   ],
   "source": [
    "print('Welcome to ROCK, PAPER, SCISSORS game!')\n",
    "tie=0\n",
    "lose=0\n",
    "user_me=input('Enter your move: (r)ock (p)aper (s)cissors')\n",
    "import random\n",
    "while(1):\n",
    "    computer=random.randint(1,3)\n",
    "    \n",
    "    if user_me == 'r':\n",
    "        player=1\n",
    "        print('ROCK versus...')\n",
    "    elif user_me == 'p':\n",
    "        player=2\n",
    "        print('PAPER versus...')\n",
    "    elif user_me == 's': \n",
    "        player=3\n",
    "        print('SCISSORS versus...')\n",
    "    \n",
    "    if computer == 1:\n",
    "        print('ROCK')\n",
    "    elif computer == 2:\n",
    "        print('PAPER')\n",
    "    elif computer == 3:\n",
    "        print('SCISSORS')\n",
    "        \n",
    "    if player == computer:\n",
    "        print('It is a tie!')\n",
    "        tie += 1\n",
    "    elif player == 1 and computer == 2:\n",
    "        print('You lose!')\n",
    "        lose += 1\n",
    "    elif player == 1 and computer == 3:\n",
    "        print('You win!')\n",
    "        break\n",
    "    elif player == 2 and computer == 3:\n",
    "        print('You lose!')\n",
    "        lose += 1\n",
    "    elif player == 2 and computer == 1:\n",
    "        print('You win!')\n",
    "        break\n",
    "    elif player == 3 and computer == 1:\n",
    "        print('You lose!')\n",
    "        lose += 1\n",
    "    elif player == 3 and computer == 2:\n",
    "        print('You win!')\n",
    "        break\n",
    "    user_me=input('Enter your move: (r)ock (p)aper (s)cissors') \n",
    "    \n",
    "print('You have %d ties and %d loses before your first win.'%(tie,lose))"
   ]
  },
  {
   "cell_type": "code",
   "execution_count": null,
   "id": "021e1cf6-a93f-4882-b1a4-5e96e18d4262",
   "metadata": {},
   "outputs": [],
   "source": []
  },
  {
   "cell_type": "code",
   "execution_count": null,
   "id": "4301f715-2ca4-431a-a5da-03b02a5c3297",
   "metadata": {},
   "outputs": [],
   "source": []
  },
  {
   "cell_type": "code",
   "execution_count": null,
   "id": "0413e8e9-c47b-45e6-864e-b0bea864215f",
   "metadata": {},
   "outputs": [],
   "source": []
  }
 ],
 "metadata": {
  "kernelspec": {
   "display_name": "Python 3",
   "language": "python",
   "name": "python3"
  },
  "language_info": {
   "codemirror_mode": {
    "name": "ipython",
    "version": 3
   },
   "file_extension": ".py",
   "mimetype": "text/x-python",
   "name": "python",
   "nbconvert_exporter": "python",
   "pygments_lexer": "ipython3",
   "version": "3.9.5"
  }
 },
 "nbformat": 4,
 "nbformat_minor": 5
}
